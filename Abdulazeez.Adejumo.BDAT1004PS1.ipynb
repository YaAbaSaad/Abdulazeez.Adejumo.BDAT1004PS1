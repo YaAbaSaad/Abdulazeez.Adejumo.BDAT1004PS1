{
 "cells": [
  {
   "cell_type": "markdown",
   "id": "1450b440",
   "metadata": {},
   "source": [
    "# Question 1\n",
    "\n",
    "What data type is each of the following (evaluate where necessary)?"
   ]
  },
  {
   "cell_type": "markdown",
   "id": "ea6df568",
   "metadata": {},
   "source": [
    "# Answer\n",
    "\n",
    "5 - **Integer** <br>\n",
    "5.0 - **Float** <br>\n",
    "5 > 1 - **Boolean (True)** <br>\n",
    "'5' - **String** <br>\n",
    "5 * 2 - **Integer** <br>\n",
    "'5' * 2 - **String ('52' - string concatenation)** <br>\n",
    "'5' + '2' - **String ('52' - string concatenation)** <br>\n",
    "5 / 2 - **Float (division results in a float)** <br>\n",
    "5 % 2 - **Integer (modulo operation results in an integer){5, 2, 1} - Set** <br>\n",
    "5 == 3 - **Boolean (False)** <br>\n",
    "Pi (the number) – **Float** <br>"
   ]
  },
  {
   "cell_type": "markdown",
   "id": "a4f43ddf",
   "metadata": {},
   "source": [
    "# Question 2a.\n",
    "\n",
    "How many letters are there in 'Supercalifragilisticexpialidocious'?\n"
   ]
  },
  {
   "cell_type": "code",
   "execution_count": 3,
   "id": "1d582231",
   "metadata": {},
   "outputs": [
    {
     "name": "stdout",
     "output_type": "stream",
     "text": [
      "Number of letters is: 34\n"
     ]
    }
   ],
   "source": [
    "word = \"Supercalifragilisticexpialidocious\"\n",
    "number_of_letters = len(word)\n",
    "print(\"Number of letters is:\", number_of_letters)"
   ]
  },
  {
   "cell_type": "markdown",
   "id": "ebe31acc",
   "metadata": {},
   "source": [
    "# Question 2b.\n",
    "\n",
    "Does 'Supercalifragilisticexpialidocious' contain 'ice' as a substring?\n"
   ]
  },
  {
   "cell_type": "code",
   "execution_count": 4,
   "id": "61573c40",
   "metadata": {},
   "outputs": [
    {
     "name": "stdout",
     "output_type": "stream",
     "text": [
      "The word contains 'ice' as a substring: True\n"
     ]
    }
   ],
   "source": [
    "word= \"Supercalifragilisticexpialidocious\"\n",
    "substring = 'ice' in word\n",
    "print(\"The word contains 'ice' as a substring:\", substring)"
   ]
  },
  {
   "cell_type": "markdown",
   "id": "584754af",
   "metadata": {},
   "source": [
    "# Question 2c.\n",
    "\n",
    "Which of the following words is the longest:\n",
    "Supercalifragilisticexpialidocious, Honorificabilitudinitatibus, or\n",
    "Bababadalgharaghtakamminarronnkonn?\n"
   ]
  },
  {
   "cell_type": "code",
   "execution_count": 5,
   "id": "76d8c9b2",
   "metadata": {},
   "outputs": [
    {
     "name": "stdout",
     "output_type": "stream",
     "text": [
      "Longest word: Supercalifragilisticexpialidocious\n"
     ]
    }
   ],
   "source": [
    "words = ['Supercalifragilisticexpialidocious', 'Honorificabilitudinitatibus',\n",
    "'Bababadalgharaghtakamminarronnkonn']\n",
    "longest_word = max(words, key=len)\n",
    "print(\"Longest word:\", longest_word)"
   ]
  },
  {
   "cell_type": "markdown",
   "id": "b327a894",
   "metadata": {},
   "source": [
    "# Question 2d.\n",
    "\n",
    "Which composer comes first in the dictionary: 'Berlioz', 'Borodin', 'Brian',\n",
    "'Bartok', 'Bellini', 'Buxtehude', 'Bernstein'. Which one comes last?"
   ]
  },
  {
   "cell_type": "code",
   "execution_count": 6,
   "id": "916c10ce",
   "metadata": {},
   "outputs": [
    {
     "name": "stdout",
     "output_type": "stream",
     "text": [
      "First composer: Bartok\n",
      "Last composer: Buxtehude\n"
     ]
    }
   ],
   "source": [
    "composers = ['Berlioz', 'Borodin', 'Brian', 'Bartok', 'Bellini', 'Buxtehude', 'Bernstein']\n",
    "composers.sort()\n",
    "first_composer = composers[0]\n",
    "last_composer = composers[-1]\n",
    "print(\"First composer:\", first_composer)\n",
    "print(\"Last composer:\", last_composer)"
   ]
  },
  {
   "cell_type": "markdown",
   "id": "e4c96963",
   "metadata": {},
   "source": [
    "# Question 3\n",
    "Implement function triangleArea(a,b,c) that takes as input the lengths of the 3\n",
    "sides of a triangle and returns the area of the triangle. By Heron's formula, the area\n",
    "of a triangle with side lengths a, b, and c is\n",
    "s(s - a)(s -b)(s -c), where\n",
    "s = (a +b + c) /2."
   ]
  },
  {
   "cell_type": "code",
   "execution_count": 10,
   "id": "25b177ed",
   "metadata": {},
   "outputs": [
    {
     "name": "stdout",
     "output_type": "stream",
     "text": [
      "1.7320508075688772\n"
     ]
    }
   ],
   "source": [
    "import math\n",
    "\n",
    "def triangleArea(a, b, c):\n",
    "    # Calculate the semi-perimeter 's'\n",
    "    s = (a + b + c) / 2\n",
    "    # Calculate the area using Heron's formula\n",
    "    area = math.sqrt(s * (s - a) * (s - b) * (s - c))\n",
    "    return area\n",
    "\n",
    "# Test the function\n",
    "result = triangleArea(2, 2, 2)\n",
    "print(result)\n"
   ]
  },
  {
   "cell_type": "markdown",
   "id": "03a00f74",
   "metadata": {},
   "source": [
    "# Question 4\n",
    "Write a program in python to separate odd and even integers in separate arrays. Go\n",
    "to the editor\n",
    "Test Data :\n",
    "Input the number of elements to be stored in the array :5\n",
    "Input 5 elements in the array :\n",
    "element - 0 : 25\n",
    "element - 1 : 47\n",
    "element - 2 : 42\n",
    "element - 3 : 56\n",
    "element - 4 : 32\n",
    "Expected Output:\n",
    "The Even elements are:\n",
    "42 56 32\n",
    "The Odd elements are :\n",
    "25 47"
   ]
  },
  {
   "cell_type": "code",
   "execution_count": 12,
   "id": "e103a8ae",
   "metadata": {},
   "outputs": [
    {
     "name": "stdout",
     "output_type": "stream",
     "text": [
      "Input the number of elements: 5\n",
      "Enter element 1: 25\n",
      "Enter element 2: 47\n",
      "Enter element 3: 42\n",
      "Enter element 4: 56\n",
      "Enter element 5: 32\n",
      "The Even numbers are: [42, 56, 32]\n",
      "The Odd numbers are: [25, 47]\n"
     ]
    }
   ],
   "source": [
    "# Input the number of elements\n",
    "number_of_elements = int(input(\"Input the number of elements: \"))\n",
    "\n",
    "# Initialize empty lists for even and odd elements\n",
    "even_numbers = []\n",
    "odd_numbers = []\n",
    "\n",
    "# Input elements and categorize them\n",
    "for i in range(number_of_elements):\n",
    "    element = int(input(f\"Enter element {i + 1}: \"))\n",
    "    if element % 2 == 0:\n",
    "        even_numbers.append(element)\n",
    "    else:\n",
    "        odd_numbers.append(element)\n",
    "\n",
    "# Output the even and odd elements\n",
    "print(\"The Even numbers are:\", even_numbers)\n",
    "print(\"The Odd numbers are:\", odd_numbers)"
   ]
  },
  {
   "cell_type": "markdown",
   "id": "4076cad9",
   "metadata": {},
   "source": [
    "# Question 5a.\n",
    "Write a function inside(x,y,x1,y1,x2,y2) that returns True or False depending on whether the point (x,y) lies in the rectangle with lower left corner (x1,y1) and upper right corner (x2,y2).\n",
    "\n",
    "inside(1,1,0,0,2,3) <br>\n",
    "True <br>\n",
    "inside(-1,-1,0,0,2,3) <br>\n",
    "False <br>"
   ]
  },
  {
   "cell_type": "code",
   "execution_count": 45,
   "id": "8911ee0b",
   "metadata": {},
   "outputs": [
    {
     "name": "stdout",
     "output_type": "stream",
     "text": [
      "True\n",
      "False\n"
     ]
    }
   ],
   "source": [
    "def inside(x, y, x1, y1, x2, y2):\n",
    "    return x1 <= x <= x2 and y1 <= y <= y2\n",
    "\n",
    "print(inside(1, 1, 0, 0, 2, 2))  # This should return True because (1,1) is inside the rectangle defined by (0,0) and (2,2)\n",
    "print(inside(-1, -1, 0, 0, 2, 3))  # This should return False\n"
   ]
  },
  {
   "cell_type": "markdown",
   "id": "a77775a1",
   "metadata": {},
   "source": [
    "# Question 5b.\n",
    "\n",
    "Use function inside() from part a. to write an expression that tests whether the point (1,1) lies in both of the following rectangles: one with lower left corner (0.3, 0.5) and upper right corner (1.1, 0.7) and the other with lower left corner (0.5, 0.2) and upper right corner (1.1, 2)."
   ]
  },
  {
   "cell_type": "code",
   "execution_count": 18,
   "id": "90eab170",
   "metadata": {},
   "outputs": [
    {
     "name": "stdout",
     "output_type": "stream",
     "text": [
      "The point (1, 1) does not lie in both rectangles.\n"
     ]
    }
   ],
   "source": [
    "# Define the function to check if a point is inside a rectangle\n",
    "def inside(x, y, x1, y1, x2, y2):\n",
    "    return x1 <= x <= x2 and y1 <= y <= y2\n",
    "\n",
    "# Define the coordinates of the point (1, 1)\n",
    "x = 1\n",
    "y = 1\n",
    "\n",
    "# Define the coordinates of the rectangles\n",
    "rectangle1 = (0.3, 0.5, 1.1, 0.7)\n",
    "rectangle2 = (0.5, 0.2, 1.1, 2)\n",
    "\n",
    "# Test if the point (1, 1) is inside both rectangles\n",
    "is_inside_rectangle1 = inside(x, y, rectangle1[0], rectangle1[1], rectangle1[2], rectangle1[3])\n",
    "is_inside_rectangle2 = inside(x, y, rectangle2[0], rectangle2[1], rectangle2[2], rectangle2[3])\n",
    "\n",
    "# Check the results\n",
    "if is_inside_rectangle1 and is_inside_rectangle2:\n",
    "    print(\"The point (1, 1) lies in both rectangles.\")\n",
    "else:\n",
    "    print(\"The point (1, 1) does not lie in both rectangles.\")\n"
   ]
  },
  {
   "cell_type": "markdown",
   "id": "79b8e36c",
   "metadata": {},
   "source": [
    "# Question 6\n",
    "16. You can turn a word into pig-Latin using the following two rules (simplified):\n",
    "• If the word starts with a consonant, move that letter to the end and append 'ay'. For example, 'happy' becomes 'appyhay' and 'pencil' becomes 'encilpay'.\n",
    "• If the word starts with a vowel, simply append 'way' to the end of the word. For example, 'enter' becomes 'enterway' and 'other' becomes 'otherway' . For our purposes, there are 5 vowels: a, e, i, o, u (so we count y as a consonant).\n",
    "Write a function pig() that takes a word (i.e., a string) as input and returns its pig-Latin form. Your function should still work if the input word contains upper case characters. Your output should always be lower case however."
   ]
  },
  {
   "cell_type": "code",
   "execution_count": 22,
   "id": "90b106ba",
   "metadata": {},
   "outputs": [
    {
     "name": "stdout",
     "output_type": "stream",
     "text": [
      "appyhay\n",
      "enterway\n"
     ]
    }
   ],
   "source": [
    "def pig(word):\n",
    "    # Convert the word to lowercase to handle uppercase characters\n",
    "    word = word.lower()\n",
    "    \n",
    "    # Check if the word starts with a vowel\n",
    "    vowels = \"aeiou\"\n",
    "    if word[0] in vowels:\n",
    "        return word + \"way\"\n",
    "    else:\n",
    "        # Find the index of the first vowel in the word\n",
    "        index = 0\n",
    "        for i, letter in enumerate(word):\n",
    "            if letter in vowels:\n",
    "                index = i\n",
    "                break\n",
    "        # Rearrange the word according to the rules\n",
    "        pig_latin = word[index:] + word[:index] + \"ay\"\n",
    "        return pig_latin\n",
    "\n",
    "# Test the function\n",
    "print(pig('happy'))  # Output: 'appyhay'\n",
    "print(pig('Enter'))  # Output: 'enterway'\n"
   ]
  },
  {
   "cell_type": "markdown",
   "id": "5e06a51d",
   "metadata": {},
   "source": [
    "# Question 7\n",
    "File bloodtype1.txt records blood-types of patients (A, B, AB, O or OO) at a clinic. Write a function bldcount() that reads the file with name name and reports (i.e., prints) how many patients there are in each bloodtype."
   ]
  },
  {
   "cell_type": "code",
   "execution_count": 32,
   "id": "abc40502",
   "metadata": {},
   "outputs": [
    {
     "name": "stdout",
     "output_type": "stream",
     "text": [
      "There are 15 patients of blood type A.\n",
      "There is one patient of blood type B.\n",
      "There are 13 patients of blood type AB.\n",
      "There are 15 patients of blood type O.\n",
      "There are no patients of blood type OO.\n"
     ]
    }
   ],
   "source": [
    "# Reading the contents of the file to inspect its structure\n",
    "with open(\"C:\\\\Users\\\\AbuSaad\\\\Documents\\\\Big Data Analytics\\\\BDAT1004 - Data Programming\\\\bloodtype1.txt\", \"r\") as file:\n",
    "    blood_data = file.read()\n",
    "\n",
    "def bldcount(filename):\n",
    "    # Open and read the file\n",
    "    with open(filename, \"r\") as file:\n",
    "        blood_types = file.read().split()  # Splitting the content based on spaces\n",
    "    \n",
    "    # Counting the occurrences of each blood type\n",
    "    blood_counts = {\n",
    "        'A': blood_types.count('A'),\n",
    "        'B': blood_types.count('B'),\n",
    "        'AB': blood_types.count('AB'),\n",
    "        'O': blood_types.count('O'),\n",
    "        'OO': blood_types.count('OO')\n",
    "    }\n",
    "    \n",
    "    # Printing the results\n",
    "    for blood_type, count in blood_counts.items():\n",
    "        if count == 0:\n",
    "            print(f\"There are no patients of blood type {blood_type}.\")\n",
    "        elif count == 1:\n",
    "            print(f\"There is one patient of blood type {blood_type}.\")\n",
    "        else:\n",
    "            print(f\"There are {count} patients of blood type {blood_type}.\")\n",
    "\n",
    "# Call the function to get and print the blood type counts\n",
    "bldcount(\"C:\\\\Users\\\\AbuSaad\\\\Documents\\\\Big Data Analytics\\\\BDAT1004 - Data Programming\\\\bloodtype1.txt\")\n"
   ]
  },
  {
   "cell_type": "markdown",
   "id": "41e4eddb",
   "metadata": {},
   "source": [
    "# Question 8\n",
    "Write a function curconv() that takes as input:\n",
    "1. a currency represented using a string (e.g., 'JPY' for the Japanese Yen or 'EUR' for the Euro)\n",
    "2. an amount\n",
    "and then converts and returns the amount in US dollars."
   ]
  },
  {
   "cell_type": "code",
   "execution_count": 37,
   "id": "40a2a316",
   "metadata": {},
   "outputs": [
    {
     "name": "stdout",
     "output_type": "stream",
     "text": [
      "{'EUR': 122.96544, 'JPY': 1.241401}\n"
     ]
    }
   ],
   "source": [
    "# Reading the contents of the file to inspect its structure\n",
    "with open(\"C:\\\\Users\\\\AbuSaad\\\\Documents\\\\Big Data Analytics\\\\BDAT1004 - Data Programming\\\\currencies.txt\", \"r\") as file:\n",
    "    currency_data = file.readlines()\n",
    "\n",
    "def curconv(currency, amount):\n",
    "    # Dictionary to store currency conversion rates\n",
    "    conversion_rates = {}\n",
    "    \n",
    "    # Reading the file and populating the conversion_rates dictionary\n",
    "    with open(\"C:\\\\Users\\\\AbuSaad\\\\Documents\\\\Big Data Analytics\\\\BDAT1004 - Data Programming\\\\currencies.txt\", \"r\") as file:\n",
    "        for line in file:\n",
    "            data = line.split(\"\\t\")\n",
    "            conversion_rates[data[0]] = float(data[1])\n",
    "    \n",
    "    # Convert the amount using the appropriate conversion rate\n",
    "    if currency in conversion_rates:\n",
    "        return amount * conversion_rates[currency]\n",
    "    else:\n",
    "        raise ValueError(f\"Unknown currency code: {currency}\")\n",
    "\n",
    "# Testing the function\n",
    "test_results = {\n",
    "    'EUR': curconv('EUR', 100),\n",
    "    'JPY': curconv('JPY', 100)\n",
    "}\n",
    "print(test_results)\n",
    "\n"
   ]
  },
  {
   "cell_type": "markdown",
   "id": "c8848b69",
   "metadata": {},
   "source": [
    "# Question 9\n",
    "Each of the following will cause an exception (an error). Identify what type of exception each will cause."
   ]
  },
  {
   "cell_type": "markdown",
   "id": "d524dd1d",
   "metadata": {},
   "source": [
    "# Answer\n",
    "1. Trying to add incompatible variables, as in adding 6 + 'a':\n",
    "**Type Error:** This will result in a TypeError because you cannot perform addition between\n",
    "an integer and a string.\n",
    "2. Referring to the 12th item of a list that has only 10 items:\n",
    "**IndexError:** This will result in an IndexError because you are trying to access an index\n",
    "that is out of the range of the list.\n",
    "3. Using a value that is out of range for a function's input, such as calling math.sqrt(1.0):\n",
    "**ValueError** (for math.sqrt): This will result in a ValueError because the math.sqrt\n",
    "function does not accept negative numbers as input. It expects a non-negative number.\n",
    "4. Using an undeclared variable, such as print(x) when x has not been defined:\n",
    "**NameError:** This will result in a NameError because the variable 'x' has not been\n",
    "declared or defined before it is used.\n",
    "5. Trying to open a file that does not exist, such as mistyping the file name or looking in the wrong\n",
    "directory:\n",
    "**FileNotFoundError:** This will result in a FileNotFoundError if the specified file does not\n",
    "exist in the specified location or if there is a typo in the file name."
   ]
  },
  {
   "cell_type": "markdown",
   "id": "d6e70ca4",
   "metadata": {},
   "source": [
    "# Question 10\n",
    "Encryption is the process of hiding the meaning of a text by substituting letters in the message with other letters, according to some system. If the process is successful, no one but the intended recipient can understand the encrypted message. Cryptanalysis refers to attempts to undo the encryption, even if some details of the encryption are unknown (for example, if an encrypted message has been intercepted). The first step of cryptanalysis is often to build up a table of letter frequencies in the encrypted text. Assume that the string letters is already defined as 'abcdefghijklmnopqrstuvwxyz'. Write a function called frequencies() that takes a string as its only parameter, and returns a list of integers, showing the number of times each character appears in the text. Your function may ignore any characters that are not in letters."
   ]
  },
  {
   "cell_type": "code",
   "execution_count": 40,
   "id": "d781add4",
   "metadata": {},
   "outputs": [
    {
     "name": "stdout",
     "output_type": "stream",
     "text": [
      "[1, 1, 1, 3, 5, 1, 1, 2, 1, 0, 1, 0, 1, 2, 4, 0, 1, 2, 0, 3, 1, 0, 1, 1, 0, 0]\n",
      "[1, 0, 0, 0, 1, 0, 0, 0, 0, 0, 0, 1, 0, 0, 0, 2, 0, 0, 0, 0, 0, 0, 0, 0, 0, 0]\n"
     ]
    }
   ],
   "source": [
    "def frequencies(text):\n",
    "    # Define the valid letters\n",
    "    letters = 'abcdefghijklmnopqrstuvwxyz'\n",
    "    \n",
    "    # Initialize a list to store the frequency of each letter\n",
    "    letter_frequencies = [0] * 26\n",
    "\n",
    "    # Convert the input text to lowercase for case-insensitive counting\n",
    "    text = text.lower()\n",
    "\n",
    "    # Iterate through each character in the input text\n",
    "    for char in text:\n",
    "        if char in letters:\n",
    "            # Increment the corresponding frequency count\n",
    "            index = letters.index(char)\n",
    "            letter_frequencies[index] += 1\n",
    "\n",
    "    return letter_frequencies\n",
    "\n",
    "# Test the function with example inputs\n",
    "print(frequencies('The quick red fox got bored and went home.'))\n",
    "# Expected Output: [1, 1, 1, 3, 5, 1, 1, 2, 1, 0, 1, 0, 1, 2, 4, 0, 1, 2, 0, 2, 1, 0, 1, 1, 0, 0]\n",
    "print(frequencies('apple'))\n",
    "# Expected Output: [1, 0, 0, 0, 1, 0, 0, 0, 0, 0, 0, 1, 0, 0, 0, 2, 0, 0, 0, 0, 0, 0, 0, 0, 0, 0]\n"
   ]
  }
 ],
 "metadata": {
  "kernelspec": {
   "display_name": "Python 3 (ipykernel)",
   "language": "python",
   "name": "python3"
  },
  "language_info": {
   "codemirror_mode": {
    "name": "ipython",
    "version": 3
   },
   "file_extension": ".py",
   "mimetype": "text/x-python",
   "name": "python",
   "nbconvert_exporter": "python",
   "pygments_lexer": "ipython3",
   "version": "3.11.4"
  }
 },
 "nbformat": 4,
 "nbformat_minor": 5
}
